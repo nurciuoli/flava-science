{
 "cells": [
  {
   "cell_type": "code",
   "execution_count": null,
   "metadata": {},
   "outputs": [],
   "source": [
    "import pandas as pd\n",
    "dff = pd.read_csv('flavor_db.csv')[['entity id','alias','synonyms','scientific name','category','molecules']].set_index('entity id')\n",
    "\n",
    "dff.head()"
   ]
  },
  {
   "cell_type": "code",
   "execution_count": null,
   "metadata": {},
   "outputs": [],
   "source": [
    "dfm = pd.read_csv('molecules.csv')[['pubchem id','common name','flavor profile']].set_index('pubchem id').iloc[:-3]\n",
    "\n",
    "dfm.head()"
   ]
  },
  {
   "cell_type": "markdown",
   "metadata": {},
   "source": [
    "### food.com data"
   ]
  },
  {
   "cell_type": "code",
   "execution_count": null,
   "metadata": {},
   "outputs": [],
   "source": [
    "import pandas as pd\n",
    "dfr1 = pd.read_csv('food_dot_com/RAW_recipes.csv').rename(columns={'id':'recipe_id'})\n",
    "dfr1=dfr1.set_index('recipe_id')\n",
    "\n",
    "dfr1.head()"
   ]
  },
  {
   "cell_type": "code",
   "execution_count": null,
   "metadata": {},
   "outputs": [],
   "source": [
    "import numpy as np\n",
    "def g(df,col):\n",
    "    df[col] = df[col].apply(eval).apply(lambda x: list(x))\n",
    "    return df\n",
    "\n",
    "temp = g(dfm.copy(),'flavor profile')\n",
    "df_flavs=temp['flavor profile'].explode().replace('',np.nan).dropna()\n",
    "\n",
    "df_flavs =df_flavs.reset_index().set_index(['pubchem id','flavor profile'])\n",
    "\n",
    "df_flavs.head()"
   ]
  },
  {
   "cell_type": "code",
   "execution_count": null,
   "metadata": {},
   "outputs": [],
   "source": [
    "dft = pd.Series(dfr1['ingredients'].apply(eval).explode().unique())\n",
    "\n",
    "dft2 = dff.reset_index()\n",
    "\n",
    "dft2['alias']=dft2['alias'].str.lower()\n",
    "\n",
    "dft2=dft2.rename(columns = {'alias':'ingredients'})\n",
    "df_filt=dft2[dft2['ingredients'].isin(dft)].copy()\n",
    "\n",
    "df_filt['molecules'] = df_filt['molecules'].apply(eval)\n",
    "\n",
    "\n",
    "def g(df):\n",
    "    df[\"molecules\"] = df[\"molecules\"].apply(lambda x: list(x))\n",
    "    return df\n",
    "\n",
    "df = g(df_filt.copy())\n",
    "# Step 1: Explode the 'molecules' column\n",
    "df_exploded = df.set_index('ingredients').explode('molecules')\n",
    "\n",
    "# Step 2: Create a binary matrix\n",
    "# Convert the exploded DataFrame into a binary matrix where each molecule has its own column\n",
    "# and the presence of the molecule is indicated by 1\n",
    "df_matrix = pd.get_dummies(df_exploded['molecules']).groupby(df_exploded.index).sum()\n",
    "\n",
    "df_matrix.head()"
   ]
  },
  {
   "cell_type": "code",
   "execution_count": null,
   "metadata": {},
   "outputs": [],
   "source": [
    "# Ensure 'ingredients' are evaluated to lists and filter out empty lists before exploding\n",
    "dfr1['ingredients'] = dfr1['ingredients'].apply(eval)\n",
    "dfr1 = dfr1[dfr1['ingredients'].map(bool)]  # Filter out rows where 'ingredients' is an empty list\n"
   ]
  },
  {
   "cell_type": "code",
   "execution_count": null,
   "metadata": {},
   "outputs": [],
   "source": [
    "temp_df=dfr1['ingredients'].explode().reset_index().set_index(['recipe_id', 'ingredients'])"
   ]
  },
  {
   "cell_type": "code",
   "execution_count": null,
   "metadata": {},
   "outputs": [],
   "source": [
    "# Example of processing in batches\n",
    "batch_size = 10000  # Adjust based on your system's memory capacity\n",
    "n_batches = (len(dfr1) + batch_size - 1) // batch_size  # Calculate the number of batches needed\n",
    "\n",
    "result_dfs = []  # List to hold the result of each batch\n",
    "\n",
    "for i in range(n_batches):\n",
    "    batch_df = dfr1.iloc[i*batch_size:(i+1)*batch_size]  # Select a batch\n",
    "    batch_df = batch_df.explode('ingredients').reset_index().dropna().set_index(['recipe_id', 'ingredients'])\n",
    "    batch_result = batch_df.join(df_matrix, on='ingredients', how='left').fillna(0).groupby('recipe_id').sum()\n",
    "    result_dfs.append(batch_result)\n",
    "\n",
    "# Combine batch results\n",
    "df_agg_mol = pd.concat(result_dfs)"
   ]
  },
  {
   "cell_type": "code",
   "execution_count": null,
   "metadata": {},
   "outputs": [],
   "source": [
    "import pandas as pd\n",
    "dfr2 = pd.read_csv('food_dot_com/RAW_interactions.csv').set_index(['recipe_id','user_id'])\n",
    "\n",
    "dfr2['review']=dfr2['review'].astype(str)\n",
    "\n",
    "flavor_words = {\n",
    "    'acidic': ['sharp', 'tart', 'sour'],\n",
    "    'bitter': ['tart', 'sharp', 'harsh'],\n",
    "    'sweet': ['sugary'],\n",
    "    'umami': ['full-flavored', 'savory'],\n",
    "    'spicy': ['pungent', 'hot'],\n",
    "}\n",
    "# Tokenize the reviews and count flavor words\n",
    "for flavor, words in flavor_words.items():\n",
    "    dfr2[flavor] = dfr2['review'].str.lower().str.count('|'.join(words))"
   ]
  },
  {
   "cell_type": "code",
   "execution_count": null,
   "metadata": {},
   "outputs": [],
   "source": [
    "dfr2.head()"
   ]
  },
  {
   "cell_type": "code",
   "execution_count": null,
   "metadata": {},
   "outputs": [],
   "source": [
    "df_agg = dfr2.groupby('recipe_id').agg({'acidic':'sum',\n",
    "                                         'bitter':'sum',\n",
    "                                         'sweet':'sum',\n",
    "                                         'umami':'sum',\n",
    "                                         'spicy':'sum'})\n",
    "\n",
    "df_agg=df_agg.rename(columns = {'acidic':'acidic_rev',\n",
    "                                         'bitter':'bitter_rev',\n",
    "                                         'sweet':'sweet_rev',\n",
    "                                         'umami':'umami_rev',\n",
    "                                         'spicy':'spicy_rev'})\n",
    "\n",
    "df_final = df_agg.join(df_agg_mol,how='left')\n",
    "\n",
    "df_final.head()"
   ]
  },
  {
   "cell_type": "code",
   "execution_count": null,
   "metadata": {},
   "outputs": [],
   "source": [
    "df_final.to_pickle('full_dataset.pkl')"
   ]
  },
  {
   "cell_type": "markdown",
   "metadata": {},
   "source": [
    "-----------------------"
   ]
  }
 ],
 "metadata": {
  "kernelspec": {
   "display_name": "Python 3",
   "language": "python",
   "name": "python3"
  },
  "language_info": {
   "codemirror_mode": {
    "name": "ipython",
    "version": 3
   },
   "file_extension": ".py",
   "mimetype": "text/x-python",
   "name": "python",
   "nbconvert_exporter": "python",
   "pygments_lexer": "ipython3",
   "version": "3.11.8"
  }
 },
 "nbformat": 4,
 "nbformat_minor": 2
}
